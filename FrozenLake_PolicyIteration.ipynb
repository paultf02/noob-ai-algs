{
 "cells": [
  {
   "cell_type": "markdown",
   "metadata": {},
   "source": [
    "# FrozenLake Policy Iteration\n",
    "\n",
    "This is the openai gym environment, FrozenLake in its 4x4 and 8x8, probabilistic and deterministic variants. Dynamic programming is used and the model gets a 100% solve rate in deterministic environments and roughly a 10% solve rate in probabilistic or \"slippery\" environments. \n",
    "\n",
    "**Dynamic programming** is a brute force method of solving Markov Decision Processes or MDPs. MDPs have the *Strong Markovian Property*; a future state is determined only by the current state and action and not previous states and actions.\n",
    "\n",
    "**An MDP is a tuple consisting of:**\n",
    "**S** - All states\n",
    "**A** - All actions that can be taken by an agent\n",
    "**r(s, a, s')** - *Reward model* giving expected reward for taking action **a** in state **s** and ending up in                     state **s'**\n",
    "**T(s'|s, a)** - *Transition probability matrix*; probability that taking action **a** in state **s** leads to state **s'**\n",
    "**γ** - *Discount factor*; Value between [0, 1] that represents relative importance between present and future               rewards\n",
    "        If **γ** = 1 future rewards are not weighted differently to present rewards\n",
    "        If **γ** = 0 future rewards are not taken into consideration at all\n",
    "        **γ** = 0.9 is usually a good starting point (Since this is a hyperparameter you will have to tune it)\n",
    "\n",
    "A policy **π(s) = a** is the action **a** an agent takes when in state **s**. Policies can be either stochastic (e.g epsilon-greedy policy) or deterministic (greedy policy); but here we will only use a deterministic/greedy policy.\n",
    "\n",
    "The value of a state, or state-value, is the cumulative reward an agent expects to receive when in a state and following a certain policy. If **γ** < 1 then this is the **discounted** cumulative reward.\n",
    "\n",
    "The Bellman equation is used to relate the value of the current state to the reward it gets, plus the value of the next state (for a given policy).\n",
    "\n",
    "The first question one might ask when thinking about this is \"how do we know what the value of the next state is?\" and this is where dynamic programming - an iterative algorithm- comes in. We start off with all values initialised to zero. Then as we go through states using the Bellman equation and recieve rewards, we start getting approximates for what the value function is. As we go through more iterations, the value function \"bootstraps\" itself and converges to its true value for the given policy.\n",
    "\n",
    "**V_π(s) = r(s,a,s') + γV_π(s')** <-- the Bellman equation, a state-value function for policy π\n",
    "\n",
    "For stochastic environments (like the slippery FrozenLake) we need to add the values for each possible next state\n",
    "weighted by that state's probaility of occuring -> **T(s'|s, a)**\n",
    "\n",
    "\n",
    "Once we have found the values for all states we will update the policy to choose actions that lead to states with the highest value - acting greedily. We do this by finding the action which has the highest action value\n",
    "    action value = \n",
    "\n",
    "The policy iteration algorithm goes as follows:\n",
    "1. start with a random policy and value function and set epsilon - threshold for convergence\n",
    "2. policy evaluation:\n",
    "    delta = 0\n",
    "    for every state:\n",
    "        old = V_π(s) \n",
    "        s' = take action π(s) in the environment\n",
    "        new = r(s,a,s') + γV_π(s')\n",
    "        V_π(s) = new\n",
    "        delta = max(delta, abs(new - old))\n",
    "        if delta < epsilon then GOTO 3\n",
    "3. policy improvement: \n",
    "    for every state\n",
    "        π(s) = choose action which leads to state with the highest value function #\"acting greedily\"\n",
    "    if policy has converged then STOP else GOTO 2\n",
    "\n",
    "NOTE: Here we are giving a very basic overview of the algorithm without going too in detail into the equations and derivation. If you want a deeper and formal understanding then it is strongly recommended to do extra reading. Resources given below.\n",
    "  "
   ]
  },
  {
   "cell_type": "code",
   "execution_count": 1,
   "metadata": {},
   "outputs": [],
   "source": [
    "#import dependencies\n",
    "import gym\n",
    "from gym.envs.registration import register\n",
    "import numpy as np\n",
    "import matplotlib.pyplot as plt\n",
    "import time\n",
    "from collections import Counter"
   ]
  },
  {
   "cell_type": "code",
   "execution_count": 13,
   "metadata": {
    "collapsed": true
   },
   "outputs": [
    {
     "ename": "Error",
     "evalue": "Cannot re-register id: DeterministicFrozenLake-v0",
     "output_type": "error",
     "traceback": [
      "\u001b[0;31m---------------------------------------------------------------------------\u001b[0m",
      "\u001b[0;31mError\u001b[0m                                     Traceback (most recent call last)",
      "\u001b[0;32m<ipython-input-13-4a21367e7ad1>\u001b[0m in \u001b[0;36m<module>\u001b[0;34m\u001b[0m\n\u001b[1;32m      6\u001b[0m     \u001b[0mkwargs\u001b[0m\u001b[0;34m=\u001b[0m\u001b[0;34m{\u001b[0m\u001b[0;34m'map_name'\u001b[0m \u001b[0;34m:\u001b[0m \u001b[0;34m'4x4'\u001b[0m\u001b[0;34m,\u001b[0m \u001b[0;34m'is_slippery'\u001b[0m\u001b[0;34m:\u001b[0m \u001b[0;32mFalse\u001b[0m\u001b[0;34m}\u001b[0m\u001b[0;34m,\u001b[0m\u001b[0;34m\u001b[0m\u001b[0;34m\u001b[0m\u001b[0m\n\u001b[1;32m      7\u001b[0m     \u001b[0mmax_episode_steps\u001b[0m\u001b[0;34m=\u001b[0m\u001b[0;36m100\u001b[0m\u001b[0;34m,\u001b[0m\u001b[0;34m\u001b[0m\u001b[0;34m\u001b[0m\u001b[0m\n\u001b[0;32m----> 8\u001b[0;31m     \u001b[0mreward_threshold\u001b[0m\u001b[0;34m=\u001b[0m\u001b[0;36m0.78\u001b[0m\u001b[0;34m,\u001b[0m \u001b[0;31m# optimum = .8196\u001b[0m\u001b[0;34m\u001b[0m\u001b[0;34m\u001b[0m\u001b[0m\n\u001b[0m\u001b[1;32m      9\u001b[0m )\n\u001b[1;32m     10\u001b[0m \u001b[0;34m\u001b[0m\u001b[0m\n",
      "\u001b[0;32m~/.local/lib/python3.6/site-packages/gym/envs/registration.py\u001b[0m in \u001b[0;36mregister\u001b[0;34m(id, **kwargs)\u001b[0m\n\u001b[1;32m    162\u001b[0m \u001b[0;34m\u001b[0m\u001b[0m\n\u001b[1;32m    163\u001b[0m \u001b[0;32mdef\u001b[0m \u001b[0mregister\u001b[0m\u001b[0;34m(\u001b[0m\u001b[0mid\u001b[0m\u001b[0;34m,\u001b[0m \u001b[0;34m**\u001b[0m\u001b[0mkwargs\u001b[0m\u001b[0;34m)\u001b[0m\u001b[0;34m:\u001b[0m\u001b[0;34m\u001b[0m\u001b[0;34m\u001b[0m\u001b[0m\n\u001b[0;32m--> 164\u001b[0;31m     \u001b[0;32mreturn\u001b[0m \u001b[0mregistry\u001b[0m\u001b[0;34m.\u001b[0m\u001b[0mregister\u001b[0m\u001b[0;34m(\u001b[0m\u001b[0mid\u001b[0m\u001b[0;34m,\u001b[0m \u001b[0;34m**\u001b[0m\u001b[0mkwargs\u001b[0m\u001b[0;34m)\u001b[0m\u001b[0;34m\u001b[0m\u001b[0;34m\u001b[0m\u001b[0m\n\u001b[0m\u001b[1;32m    165\u001b[0m \u001b[0;34m\u001b[0m\u001b[0m\n\u001b[1;32m    166\u001b[0m \u001b[0;32mdef\u001b[0m \u001b[0mmake\u001b[0m\u001b[0;34m(\u001b[0m\u001b[0mid\u001b[0m\u001b[0;34m)\u001b[0m\u001b[0;34m:\u001b[0m\u001b[0;34m\u001b[0m\u001b[0;34m\u001b[0m\u001b[0m\n",
      "\u001b[0;32m~/.local/lib/python3.6/site-packages/gym/envs/registration.py\u001b[0m in \u001b[0;36mregister\u001b[0;34m(self, id, **kwargs)\u001b[0m\n\u001b[1;32m    155\u001b[0m     \u001b[0;32mdef\u001b[0m \u001b[0mregister\u001b[0m\u001b[0;34m(\u001b[0m\u001b[0mself\u001b[0m\u001b[0;34m,\u001b[0m \u001b[0mid\u001b[0m\u001b[0;34m,\u001b[0m \u001b[0;34m**\u001b[0m\u001b[0mkwargs\u001b[0m\u001b[0;34m)\u001b[0m\u001b[0;34m:\u001b[0m\u001b[0;34m\u001b[0m\u001b[0;34m\u001b[0m\u001b[0m\n\u001b[1;32m    156\u001b[0m         \u001b[0;32mif\u001b[0m \u001b[0mid\u001b[0m \u001b[0;32min\u001b[0m \u001b[0mself\u001b[0m\u001b[0;34m.\u001b[0m\u001b[0menv_specs\u001b[0m\u001b[0;34m:\u001b[0m\u001b[0;34m\u001b[0m\u001b[0;34m\u001b[0m\u001b[0m\n\u001b[0;32m--> 157\u001b[0;31m             \u001b[0;32mraise\u001b[0m \u001b[0merror\u001b[0m\u001b[0;34m.\u001b[0m\u001b[0mError\u001b[0m\u001b[0;34m(\u001b[0m\u001b[0;34m'Cannot re-register id: {}'\u001b[0m\u001b[0;34m.\u001b[0m\u001b[0mformat\u001b[0m\u001b[0;34m(\u001b[0m\u001b[0mid\u001b[0m\u001b[0;34m)\u001b[0m\u001b[0;34m)\u001b[0m\u001b[0;34m\u001b[0m\u001b[0;34m\u001b[0m\u001b[0m\n\u001b[0m\u001b[1;32m    158\u001b[0m         \u001b[0mself\u001b[0m\u001b[0;34m.\u001b[0m\u001b[0menv_specs\u001b[0m\u001b[0;34m[\u001b[0m\u001b[0mid\u001b[0m\u001b[0;34m]\u001b[0m \u001b[0;34m=\u001b[0m \u001b[0mEnvSpec\u001b[0m\u001b[0;34m(\u001b[0m\u001b[0mid\u001b[0m\u001b[0;34m,\u001b[0m \u001b[0;34m**\u001b[0m\u001b[0mkwargs\u001b[0m\u001b[0;34m)\u001b[0m\u001b[0;34m\u001b[0m\u001b[0;34m\u001b[0m\u001b[0m\n\u001b[1;32m    159\u001b[0m \u001b[0;34m\u001b[0m\u001b[0m\n",
      "\u001b[0;31mError\u001b[0m: Cannot re-register id: DeterministicFrozenLake-v0"
     ]
    }
   ],
   "source": [
    "#registering environments that are deterministic based on the 4x4 and 8x8 grids\n",
    "#this code was copied from https://github.com/openai/gym/issues/565\n",
    "register(\n",
    "    id='DeterministicFrozenLake-v0',\n",
    "    entry_point='gym.envs.toy_text:FrozenLakeEnv',\n",
    "    kwargs={'map_name' : '4x4', 'is_slippery': False},\n",
    "    max_episode_steps=100,\n",
    "    reward_threshold=0.78, # optimum = .8196\n",
    ")\n",
    "\n",
    "register(\n",
    "    id='DeterministicFrozenLake8x8-v0',\n",
    "    entry_point='gym.envs.toy_text:FrozenLakeEnv',\n",
    "    kwargs={'map_name' : '8x8', 'is_slippery': False},\n",
    "    max_episode_steps=100,\n",
    "    reward_threshold=0.78, # optimum = .8196\n",
    ")"
   ]
  },
  {
   "cell_type": "code",
   "execution_count": 3,
   "metadata": {},
   "outputs": [],
   "source": [
    "#this is used after training to see how our policy performs\n",
    "def execute(env, policy, render=False, num_tests=100):\n",
    "    \"\"\"env: openai gym environment\n",
    "       policy: dictionary, policy[state] is action for state that this policy takes \"\"\"\n",
    "    \n",
    "    episode_steps = []\n",
    "    num_completed = 0\n",
    "    for _ in range(num_tests):\n",
    "        steps = 0\n",
    "        state = env.reset() #starting state\n",
    "        while True:\n",
    "            if render:\n",
    "                env.render()\n",
    "                time.sleep(0.5) #gives a pause between each move for easy viewing\n",
    "            \n",
    "            #environment returns the state, reward, is the game finished, debugging info\n",
    "            #this is based on the action taken by the agent\n",
    "            #the action is determined by the policy for that state\n",
    "            action = policy[state]\n",
    "            state, reward, done, _ = env.step(action) \n",
    "            \n",
    "            steps += 1\n",
    "            if done: break\n",
    "        \n",
    "        #check if we reached the terminal(goal) state\n",
    "        if state == env.env.nS-1: #if reward == 1:       is an equivalent condition in this case \n",
    "            num_completed += 1\n",
    "            episode_steps.append(steps) # list of number of steps it took to finish game\n",
    "        \n",
    "    return episode_steps, num_completed"
   ]
  },
  {
   "cell_type": "code",
   "execution_count": 24,
   "metadata": {},
   "outputs": [],
   "source": [
    "#the algorithm doing all the work\n",
    "\n",
    "def policy_evaluation(env, policy, V, GAMMA=0.9):\n",
    "    epsilon = 1e-3 #the number the delta should be smaller than\n",
    "    while True:\n",
    "        delta = 0\n",
    "        for s in range(env.env.nS-1):\n",
    "            old = V[s]\n",
    "            V[s] = 0\n",
    "            action = policy[s]\n",
    "            #going through all s' that (s, a) could lead to. For determninistic envirnoments there is only one s'\n",
    "            for (prob, next_state, reward, _) in env.env.P[s][action]: \n",
    "                V[s] += prob * (reward + GAMMA * V[next_state]) #bellman equation used to update value function\n",
    "            \n",
    "            #the most the value function was off compared to its previous value\n",
    "            #this will be a small number when converged\n",
    "            delta = max(delta, abs(V[s]-old)) \n",
    "        if delta < epsilon: break\n",
    "    return V\n",
    "\n",
    "def policy_improvement(env, policy, V, GAMMA=0.9):\n",
    "    stable = True\n",
    "    for s in range(env.env.nS-1):\n",
    "        old = policy[s]\n",
    "        best_value = float('-inf')\n",
    "        #choosing best action (action which leads to the state with the highest value)\n",
    "        for action in range(env.env.nA-1):\n",
    "            action_value = 0\n",
    "            #going through all s' that (s, a) could lead to. For determninistic envirnoments there is only one s'\n",
    "            for (prob, next_state, reward, _) in env.env.P[s][action]:\n",
    "                action_value += prob * (reward + GAMMA * V[next_state]) \n",
    "            if action_value > best_value:\n",
    "                best_value, best_action = action_value, action\n",
    "\n",
    "        if best_action != old:\n",
    "            stable = False\n",
    "            \n",
    "        policy[s] = best_action\n",
    "        \n",
    "    return policy, stable"
   ]
  },
  {
   "cell_type": "code",
   "execution_count": 27,
   "metadata": {},
   "outputs": [
    {
     "name": "stdout",
     "output_type": "stream",
     "text": [
      "Completed the game 100 / 100 times\n"
     ]
    },
    {
     "data": {
      "image/png": "[encoded data removed]",
      "text/plain": [
       "<Figure size 432x288 with 1 Axes>"
      ]
     },
     "metadata": {
      "needs_background": "light"
     },
     "output_type": "display_data"
    }
   ],
   "source": [
    "if __name__ == \"__main__\":\n",
    "    env = gym.make(\"FrozenLake-v0\")\n",
    "    #env = gym.make(\"DeterministicFrozenLake-v0\")\n",
    "    #env = gym.make(\"FrozenLake8x8-v0\")\n",
    "    #env = gym.make(\"DeterministicFrozenLake8x8-v0\")\n",
    "    # the actions are ACTIONS = (0,1,2,3) LEFT, UP, RIGHT, DOWN\n",
    "    \n",
    "    RENDER = False #set to True if you want to see the game being played (reduce NUM_TESTS to ~3-5)\n",
    "    NUM_TESTS = 100 #number of game tests\n",
    "    NUM_EPOCHS = 1000 #number of training iterations\n",
    "    \n",
    "    #initialising value function V(s)\n",
    "    #NOTE: value \"function\" is actually a LIST of state-values\n",
    "    V = [0 for _ in range(env.env.nS)]\n",
    "    #V[env.env.nS-1] = 1\n",
    "    #policy initiated with random actions for each state \n",
    "    policy = {state: np.random.randint(0, env.env.nA) for state in range(env.env.nS)} \n",
    "    \n",
    "    #policy iteration algorithm: policy1-> valuefunction1-> policy2-> valuefunction2-> ...\n",
    "    for i in range(NUM_EPOCHS):\n",
    "        \n",
    "        #_stable gives a definitive point to when the policy has converged EXCEPT in the \n",
    "        #case of two or more equally optimal actions. see if you can find a way around this\n",
    "        V = policy_evaluation(env, policy, V)\n",
    "        policy, _stable = policy_improvement(env, policy, V)\n",
    "        \n",
    "    #testing the policy\n",
    "    episode_steps, num_completed = execute(env, policy, render=RENDER, num_tests=NUM_TESTS)\n",
    "    \n",
    "    print(\"Completed the game\", num_completed, \"/\", NUM_TESTS, \"times\")\n",
    "    \n",
    "    #number of times it took n steps to complete\n",
    "    episode_steps = Counter(episode_steps) \n",
    "    \n",
    "    #plotting graph\n",
    "    heights = [episode_steps[n] for n in sorted(episode_steps.keys())]\n",
    "    plt.bar(range(len(episode_steps)), heights, align='center', width=0.8)\n",
    "    plt.xticks(range(len(episode_steps)), sorted(episode_steps.keys()))\n",
    "    plt.xlabel(\"Number of steps taken to complete game\")\n",
    "    plt.ylabel(\"Number of times it took x steps\")\n",
    "    plt.show()"
   ]
  },
  {
   "cell_type": "markdown",
   "metadata": {},
   "source": [
    "Acknowledgements:\n",
    "Siraj Raval, Colin Skow and the rest of the School of AI team have provided excellent learning material in the form of their free course *Introduction to Reinforcment Learning*\n",
    "\n",
    "*Reinforcement Learning: An Introduction by Sutton and Barto* has been a tremendous resource\n",
    "\n",
    "These are some useful articles:\n",
    "https://towardsdatascience.com/reinforcement-learning-demystified-36c39c11ec14\n",
    "https://towardsdatascience.com/reinforcement-learning-demystified-solving-mdps-with-dynamic-programming-b52c8093c919\n",
    "https://stackoverflow.com/questions/37370015/what-is-the-difference-between-value-iteration-and-policy-iteration"
   ]
  },
  {
   "cell_type": "code",
   "execution_count": null,
   "metadata": {},
   "outputs": [],
   "source": []
  }
 ],
 "metadata": {
  "kernelspec": {
   "display_name": "Python 3",
   "language": "python",
   "name": "python3"
  },
  "language_info": {
   "codemirror_mode": {
    "name": "ipython",
    "version": 3
   },
   "file_extension": ".py",
   "mimetype": "text/x-python",
   "name": "python",
   "nbconvert_exporter": "python",
   "pygments_lexer": "ipython3",
   "version": "3.6.7rc1"
  }
 },
 "nbformat": 4,
 "nbformat_minor": 2
}
